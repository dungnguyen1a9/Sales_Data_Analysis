{
 "cells": [
  {
   "cell_type": "code",
   "execution_count": 2,
   "metadata": {},
   "outputs": [
    {
     "data": {
      "text/plain": [
       "<matplotlib.collections.PathCollection at 0x119c2aa40>"
      ]
     },
     "execution_count": 2,
     "metadata": {},
     "output_type": "execute_result"
    },
    {
     "data": {
      "image/png": "[encoded data removed]",
      "text/plain": [
       "<Figure size 640x480 with 1 Axes>"
      ]
     },
     "metadata": {},
     "output_type": "display_data"
    }
   ],
   "source": [
    "import pandas as pd\n",
    "import matplotlib.pyplot as plt\n",
    "import glob\n",
    "import os\n",
    "\n",
    "path = r\"/Users/dungnguyen/Desktop/WORKSPACE/DS/StrataScratch/Sales_Data_Analysis/datasets\" # use your path\n",
    "ext = r\"*.csv\"\n",
    "all_files = glob.glob(os.path.join(path , ext))\n",
    "\n",
    "li = []\n",
    "\n",
    "for filename in all_files:\n",
    "    df = pd.read_csv(filename, index_col=None, header=0)\n",
    "    li.append(df)\n",
    "\n",
    "frame = pd.concat(li, axis=0, ignore_index=True)\n",
    "\n",
    "frame[\"sale_date\"] =  pd.to_datetime(frame[\"sale_time\"]).dt.date \n",
    "frame[\"fiscal_sale_date\"] =  pd.to_datetime(frame[\"sale_time\"]).dt.date + pd.DateOffset(months=3)\n",
    "frame[\"sale_time\"] =  pd.to_datetime(frame[\"sale_time\"]).dt.time\n",
    "frame[\"fiscal_week\"] = pd.to_datetime(frame['fiscal_sale_date']).dt.isocalendar().week\n",
    "frame[\"fiscal_month\"] = pd.to_datetime(frame['fiscal_sale_date']  ).dt.month \n",
    "frame[\"date\"] = pd.to_datetime(frame['fiscal_sale_date']  ).dt.day\n",
    "# frame[\"year\"] = pd.to_datetime(frame['sale_date']).dt.year\n",
    "\n",
    "\n",
    "frame.loc[ frame[\"purchaser_gender\"]  == \"male\" , \"gender_code\"] = 1 \n",
    "frame.loc[ frame[\"purchaser_gender\"]  == \"female\" , \"gender_code\"] = 0\n",
    "\n",
    "\n",
    "#Plot daily sales for all 50 weeks.\n",
    "frame_by_fweek = frame[[\"fiscal_sale_date\",\"fiscal_week\",\"fiscal_month\"]]\n",
    "frame_by_fweek = frame_by_fweek.groupby( by= [\"fiscal_sale_date\",\"fiscal_month\",\"fiscal_week\"] ).size().reset_index(name= 'sale_count_by_week')\n",
    "\n",
    "plt.scatter( frame_by_fweek[\"fiscal_week\"] , frame_by_fweek[\"sale_count_by_week\"]  )\n",
    "##### the plot show from around week 30 - 35 have sale boom\n",
    "##### let's investigate more about what date the sale is starting\n",
    "\n",
    "\n"
   ]
  },
  {
   "cell_type": "markdown",
   "metadata": {},
   "source": [
    "the plot show from around week 30 - 35 have sale boom\n",
    "let's investigate more about what date the sale is starting"
   ]
  },
  {
   "cell_type": "code",
   "execution_count": 3,
   "metadata": {},
   "outputs": [
    {
     "name": "stdout",
     "output_type": "stream",
     "text": [
      "   fiscal_sale_date  fiscal_week  sale_by_date\n",
      "0        2013-07-22           30           540\n",
      "1        2013-07-23           30           472\n",
      "2        2013-07-24           30           487\n",
      "3        2013-07-25           30           498\n",
      "4        2013-07-26           30           480\n",
      "5        2013-07-27           30           489\n",
      "6        2013-07-28           30           458\n",
      "7        2013-07-29           31           732\n",
      "8        2013-07-30           31           732\n",
      "9        2013-08-01           31           709\n",
      "10       2013-08-02           31           744\n",
      "11       2013-08-03           31           647\n",
      "12       2013-08-04           31           707\n",
      "13       2013-08-05           32           728\n",
      "14       2013-08-06           32           791\n",
      "15       2013-08-07           32           743\n",
      "16       2013-08-08           32           679\n",
      "17       2013-08-09           32           659\n",
      "18       2013-08-10           32           703\n",
      "19       2013-08-11           32           719\n",
      "20       2013-08-12           33           748\n",
      "21       2013-08-13           33           674\n",
      "22       2013-08-14           33           719\n",
      "23       2013-08-15           33           753\n",
      "24       2013-08-16           33           658\n",
      "25       2013-08-17           33           746\n",
      "26       2013-08-18           33           653\n",
      "27       2013-08-19           34           679\n",
      "28       2013-08-20           34           695\n",
      "29       2013-08-21           34           628\n",
      "30       2013-08-22           34           648\n",
      "31       2013-08-23           34           661\n",
      "32       2013-08-24           34           621\n",
      "33       2013-08-25           34           674\n",
      "34       2013-08-26           35           695\n",
      "35       2013-08-27           35           686\n",
      "36       2013-08-28           35           670\n",
      "37       2013-08-29           35           709\n",
      "38       2013-08-30           35           794\n",
      "39       2013-08-31           35           655\n",
      "40       2013-09-01           35           746\n"
     ]
    }
   ],
   "source": [
    "frame_by_fdate = frame[[\"fiscal_sale_date\",\"fiscal_week\"]]\n",
    "frame_by_fdate[\"fiscal_week\"].astype(int)\n",
    "frame_by_fdate = frame_by_fdate[ (frame_by_fdate[\"fiscal_week\"] <= 35) & (frame_by_fdate[\"fiscal_week\"] >= 30) ]\n",
    "frame_by_fdate = frame_by_fdate.groupby( by= [\"fiscal_sale_date\", \"fiscal_week\" ] ).size().reset_index(name= 'sale_by_date')\n",
    "print(frame_by_fdate)\n",
    "### the daily sale is sudden change at July 29"
   ]
  },
  {
   "cell_type": "markdown",
   "metadata": {},
   "source": [
    "the daily sale is sudden change at July 29"
   ]
  },
  {
   "cell_type": "code",
   "execution_count": 7,
   "metadata": {},
   "outputs": [
    {
     "data": {
      "text/plain": [
       "TtestResult(statistic=-4.814370943763726, pvalue=2.1351674983582952e-05, df=40)"
      ]
     },
     "execution_count": 7,
     "metadata": {},
     "output_type": "execute_result"
    }
   ],
   "source": [
    "from scipy import stats\n",
    "rvs = frame_by_fdate[\"sale_by_date\"]\n",
    "stats.ttest_1samp(rvs, popmean= 732 )\n",
    "### p-value of 732 is 2.135e-5, which is < 0.05. p-value of 732 is fall below significant level then it means statistically significant. \n"
   ]
  },
  {
   "cell_type": "markdown",
   "metadata": {},
   "source": [
    "p-value of 732 is 2.135e-5, which is < 0.05. p-value of 732 is fall below significant level then it means statistically significant. "
   ]
  },
  {
   "cell_type": "code",
   "execution_count": null,
   "metadata": {},
   "outputs": [],
   "source": []
  }
 ],
 "metadata": {
  "kernelspec": {
   "display_name": "Python 3",
   "language": "python",
   "name": "python3"
  },
  "language_info": {
   "codemirror_mode": {
    "name": "ipython",
    "version": 3
   },
   "file_extension": ".py",
   "mimetype": "text/x-python",
   "name": "python",
   "nbconvert_exporter": "python",
   "pygments_lexer": "ipython3",
   "version": "3.10.12"
  },
  "orig_nbformat": 4,
  "vscode": {
   "interpreter": {
    "hash": "58bc13ec4dd135858b8220102d0ad3358f57eb64d131366ec25c4d4365eacf63"
   }
  }
 },
 "nbformat": 4,
 "nbformat_minor": 2
}
